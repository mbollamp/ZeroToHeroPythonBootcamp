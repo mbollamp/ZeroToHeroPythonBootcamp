{
 "cells": [
  {
   "cell_type": "code",
   "execution_count": 84,
   "id": "a5bbfe09",
   "metadata": {},
   "outputs": [],
   "source": [
    "class Dog():\n",
    "    \n",
    "    #class object attribute\n",
    "    #same for any instance of a class\n",
    "    \n",
    "    species = 'mammal'\n",
    "    \n",
    "    def __init__(self,breed,name,spots):\n",
    "        \n",
    "        self.breed = breed\n",
    "        self.name = name\n",
    "        self.spots = spots\n",
    "        \n",
    "    def change_name(self,name):\n",
    "        self.name = name\n",
    "        \n",
    "    def bark(self):\n",
    "        print(\"Woof! My name is {}\".format(self.name))\n",
    "    def kill_dog(self):\n",
    "        self.breed = 'Dead!'\n",
    "        self.name = 'Does it even matter lol'\n",
    "        self.spots = 'ok ur just trolling now'\n",
    "        \n",
    "        print(self.breed)\n",
    "        print(self.name)\n",
    "        print(self.spots)\n",
    "    pass\n"
   ]
  },
  {
   "cell_type": "code",
   "execution_count": 85,
   "id": "fee16b7a",
   "metadata": {},
   "outputs": [],
   "source": [
    "my_dog = Dog(breed = \"Husky\", name = \"John\", spots =True)\n",
    "\n"
   ]
  },
  {
   "cell_type": "code",
   "execution_count": 86,
   "id": "90497f07",
   "metadata": {},
   "outputs": [
    {
     "name": "stdout",
     "output_type": "stream",
     "text": [
      "Woof! My name is John\n"
     ]
    }
   ],
   "source": [
    "my_dog.bark()"
   ]
  },
  {
   "cell_type": "code",
   "execution_count": 120,
   "id": "bbd8522d",
   "metadata": {},
   "outputs": [],
   "source": [
    "class Circle():\n",
    "    \n",
    "    pi = 3.14\n",
    "    def __init__(self,radius = 1):\n",
    "        self.radius = radius\n",
    "    def area(self):\n",
    "        return(\"The area of the cirlce is \" + str((self.pi * (self.radius**2))))\n",
    "    def circumference(self):\n",
    "        return(2*self.pi*self.radius)\n",
    "    "
   ]
  },
  {
   "cell_type": "code",
   "execution_count": 121,
   "id": "7ee2b4ba",
   "metadata": {},
   "outputs": [],
   "source": [
    "my_circle = Circle(radius = 10)\n",
    "his_circle = Circle(radius = 20)\n",
    "their_circle = Circle(radius =200)"
   ]
  },
  {
   "cell_type": "code",
   "execution_count": 123,
   "id": "acdcaace",
   "metadata": {},
   "outputs": [
    {
     "data": {
      "text/plain": [
       "'The area of the cirlce is 125600.0'"
      ]
     },
     "execution_count": 123,
     "metadata": {},
     "output_type": "execute_result"
    }
   ],
   "source": [
    "my_circle.area()\n",
    "his_circle.area()\n",
    "their_circle.area()"
   ]
  },
  {
   "cell_type": "code",
   "execution_count": 124,
   "id": "d798f02d",
   "metadata": {},
   "outputs": [
    {
     "data": {
      "text/plain": [
       "62.800000000000004"
      ]
     },
     "execution_count": 124,
     "metadata": {},
     "output_type": "execute_result"
    }
   ],
   "source": [
    "my_circle.circumference()"
   ]
  },
  {
   "cell_type": "code",
   "execution_count": 126,
   "id": "d5401b97",
   "metadata": {},
   "outputs": [
    {
     "data": {
      "text/plain": [
       "188.4"
      ]
     },
     "execution_count": 126,
     "metadata": {},
     "output_type": "execute_result"
    }
   ],
   "source": [
    "his_circle.circumference() + my_circle.circumference()"
   ]
  },
  {
   "cell_type": "code",
   "execution_count": null,
   "id": "65ae7777",
   "metadata": {},
   "outputs": [],
   "source": [
    "class Animal():\n",
    "    def__init__(self):\n",
    "        print(\"Animal Created\")\n",
    "    def who_am_i(self):\n",
    "        print(\"I am an animal\")\n",
    "    def eat(self):\n",
    "        print(\"I am eating\")\n",
    "class Dog2(Animal):\n",
    "    \n",
    "    def __init__ (self):\n",
    "        print(\"Dog Created\")"
   ]
  }
 ],
 "metadata": {
  "kernelspec": {
   "display_name": "Python 3 (ipykernel)",
   "language": "python",
   "name": "python3"
  },
  "language_info": {
   "codemirror_mode": {
    "name": "ipython",
    "version": 3
   },
   "file_extension": ".py",
   "mimetype": "text/x-python",
   "name": "python",
   "nbconvert_exporter": "python",
   "pygments_lexer": "ipython3",
   "version": "3.11.5"
  }
 },
 "nbformat": 4,
 "nbformat_minor": 5
}
